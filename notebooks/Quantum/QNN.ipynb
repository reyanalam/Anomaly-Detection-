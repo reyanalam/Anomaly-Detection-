{
 "cells": [
  {
   "cell_type": "code",
   "execution_count": 291,
   "metadata": {},
   "outputs": [],
   "source": [
    "# Pennylane modules\n",
    "import pennylane as qml\n",
    "import numpy as np\n",
    "import torch\n",
    "import torch.nn as nn\n",
    "import torch.optim as optim\n",
    "from torch import nn\n",
    "import pandas as pd\n",
    "\n",
    "import seaborn as sns\n",
    "import matplotlib.pyplot as plt\n",
    "\n",
    "from torch.utils.data import Dataset, DataLoader, random_split\n",
    "\n",
    "from sklearn.model_selection import train_test_split\n",
    "from sklearn.metrics import accuracy_score, confusion_matrix, classification_report"
   ]
  },
  {
   "cell_type": "markdown",
   "metadata": {},
   "source": [
    "# Data Import"
   ]
  },
  {
   "cell_type": "code",
   "execution_count": 378,
   "metadata": {},
   "outputs": [],
   "source": [
    "IEEE_train = pd.read_csv(\"/Users/soardr/VSCode Projects/Zenqor/data/IEEE-CIS/train_data.csv\")\n",
    "IEEE_test = pd.read_csv(\"/Users/soardr/VSCode Projects/Zenqor/data/IEEE-CIS/test_data.csv\")"
   ]
  },
  {
   "cell_type": "code",
   "execution_count": 379,
   "metadata": {},
   "outputs": [],
   "source": [
    "NSLKDD_train = pd.read_csv(\"/Users/soardr/VSCode Projects/Zenqor/data/NSL-KDD/Train.csv\")\n",
    "NSLKDD_test = pd.read_csv(\"/Users/soardr/VSCode Projects/Zenqor/data/NSL-KDD/Test.csv\")"
   ]
  },
  {
   "cell_type": "code",
   "execution_count": 380,
   "metadata": {},
   "outputs": [
    {
     "data": {
      "text/plain": [
       "(1567, 592)"
      ]
     },
     "execution_count": 380,
     "metadata": {},
     "output_type": "execute_result"
    }
   ],
   "source": [
    "SECOM = pd.read_csv(\"/Users/soardr/VSCode Projects/Zenqor/data/uci-secom/uci-secom.csv\")\n",
    "SECOM.shape"
   ]
  },
  {
   "cell_type": "code",
   "execution_count": 381,
   "metadata": {},
   "outputs": [
    {
     "data": {
      "text/html": [
       "<div>\n",
       "<style scoped>\n",
       "    .dataframe tbody tr th:only-of-type {\n",
       "        vertical-align: middle;\n",
       "    }\n",
       "\n",
       "    .dataframe tbody tr th {\n",
       "        vertical-align: top;\n",
       "    }\n",
       "\n",
       "    .dataframe thead th {\n",
       "        text-align: right;\n",
       "    }\n",
       "</style>\n",
       "<table border=\"1\" class=\"dataframe\">\n",
       "  <thead>\n",
       "    <tr style=\"text-align: right;\">\n",
       "      <th></th>\n",
       "      <th>Time</th>\n",
       "      <th>0</th>\n",
       "      <th>1</th>\n",
       "      <th>2</th>\n",
       "      <th>3</th>\n",
       "      <th>4</th>\n",
       "      <th>5</th>\n",
       "      <th>6</th>\n",
       "      <th>7</th>\n",
       "      <th>8</th>\n",
       "      <th>...</th>\n",
       "      <th>581</th>\n",
       "      <th>582</th>\n",
       "      <th>583</th>\n",
       "      <th>584</th>\n",
       "      <th>585</th>\n",
       "      <th>586</th>\n",
       "      <th>587</th>\n",
       "      <th>588</th>\n",
       "      <th>589</th>\n",
       "      <th>Pass/Fail</th>\n",
       "    </tr>\n",
       "  </thead>\n",
       "  <tbody>\n",
       "    <tr>\n",
       "      <th>0</th>\n",
       "      <td>2008-07-19 11:55:00</td>\n",
       "      <td>3030.93</td>\n",
       "      <td>2564.00</td>\n",
       "      <td>2187.7333</td>\n",
       "      <td>1411.1265</td>\n",
       "      <td>1.3602</td>\n",
       "      <td>100.0</td>\n",
       "      <td>97.6133</td>\n",
       "      <td>0.1242</td>\n",
       "      <td>1.5005</td>\n",
       "      <td>...</td>\n",
       "      <td>NaN</td>\n",
       "      <td>0.5005</td>\n",
       "      <td>0.0118</td>\n",
       "      <td>0.0035</td>\n",
       "      <td>2.3630</td>\n",
       "      <td>NaN</td>\n",
       "      <td>NaN</td>\n",
       "      <td>NaN</td>\n",
       "      <td>NaN</td>\n",
       "      <td>-1</td>\n",
       "    </tr>\n",
       "    <tr>\n",
       "      <th>1</th>\n",
       "      <td>2008-07-19 12:32:00</td>\n",
       "      <td>3095.78</td>\n",
       "      <td>2465.14</td>\n",
       "      <td>2230.4222</td>\n",
       "      <td>1463.6606</td>\n",
       "      <td>0.8294</td>\n",
       "      <td>100.0</td>\n",
       "      <td>102.3433</td>\n",
       "      <td>0.1247</td>\n",
       "      <td>1.4966</td>\n",
       "      <td>...</td>\n",
       "      <td>208.2045</td>\n",
       "      <td>0.5019</td>\n",
       "      <td>0.0223</td>\n",
       "      <td>0.0055</td>\n",
       "      <td>4.4447</td>\n",
       "      <td>0.0096</td>\n",
       "      <td>0.0201</td>\n",
       "      <td>0.0060</td>\n",
       "      <td>208.2045</td>\n",
       "      <td>-1</td>\n",
       "    </tr>\n",
       "    <tr>\n",
       "      <th>2</th>\n",
       "      <td>2008-07-19 13:17:00</td>\n",
       "      <td>2932.61</td>\n",
       "      <td>2559.94</td>\n",
       "      <td>2186.4111</td>\n",
       "      <td>1698.0172</td>\n",
       "      <td>1.5102</td>\n",
       "      <td>100.0</td>\n",
       "      <td>95.4878</td>\n",
       "      <td>0.1241</td>\n",
       "      <td>1.4436</td>\n",
       "      <td>...</td>\n",
       "      <td>82.8602</td>\n",
       "      <td>0.4958</td>\n",
       "      <td>0.0157</td>\n",
       "      <td>0.0039</td>\n",
       "      <td>3.1745</td>\n",
       "      <td>0.0584</td>\n",
       "      <td>0.0484</td>\n",
       "      <td>0.0148</td>\n",
       "      <td>82.8602</td>\n",
       "      <td>1</td>\n",
       "    </tr>\n",
       "    <tr>\n",
       "      <th>3</th>\n",
       "      <td>2008-07-19 14:43:00</td>\n",
       "      <td>2988.72</td>\n",
       "      <td>2479.90</td>\n",
       "      <td>2199.0333</td>\n",
       "      <td>909.7926</td>\n",
       "      <td>1.3204</td>\n",
       "      <td>100.0</td>\n",
       "      <td>104.2367</td>\n",
       "      <td>0.1217</td>\n",
       "      <td>1.4882</td>\n",
       "      <td>...</td>\n",
       "      <td>73.8432</td>\n",
       "      <td>0.4990</td>\n",
       "      <td>0.0103</td>\n",
       "      <td>0.0025</td>\n",
       "      <td>2.0544</td>\n",
       "      <td>0.0202</td>\n",
       "      <td>0.0149</td>\n",
       "      <td>0.0044</td>\n",
       "      <td>73.8432</td>\n",
       "      <td>-1</td>\n",
       "    </tr>\n",
       "    <tr>\n",
       "      <th>4</th>\n",
       "      <td>2008-07-19 15:22:00</td>\n",
       "      <td>3032.24</td>\n",
       "      <td>2502.87</td>\n",
       "      <td>2233.3667</td>\n",
       "      <td>1326.5200</td>\n",
       "      <td>1.5334</td>\n",
       "      <td>100.0</td>\n",
       "      <td>100.3967</td>\n",
       "      <td>0.1235</td>\n",
       "      <td>1.5031</td>\n",
       "      <td>...</td>\n",
       "      <td>NaN</td>\n",
       "      <td>0.4800</td>\n",
       "      <td>0.4766</td>\n",
       "      <td>0.1045</td>\n",
       "      <td>99.3032</td>\n",
       "      <td>0.0202</td>\n",
       "      <td>0.0149</td>\n",
       "      <td>0.0044</td>\n",
       "      <td>73.8432</td>\n",
       "      <td>-1</td>\n",
       "    </tr>\n",
       "    <tr>\n",
       "      <th>...</th>\n",
       "      <td>...</td>\n",
       "      <td>...</td>\n",
       "      <td>...</td>\n",
       "      <td>...</td>\n",
       "      <td>...</td>\n",
       "      <td>...</td>\n",
       "      <td>...</td>\n",
       "      <td>...</td>\n",
       "      <td>...</td>\n",
       "      <td>...</td>\n",
       "      <td>...</td>\n",
       "      <td>...</td>\n",
       "      <td>...</td>\n",
       "      <td>...</td>\n",
       "      <td>...</td>\n",
       "      <td>...</td>\n",
       "      <td>...</td>\n",
       "      <td>...</td>\n",
       "      <td>...</td>\n",
       "      <td>...</td>\n",
       "      <td>...</td>\n",
       "    </tr>\n",
       "    <tr>\n",
       "      <th>1562</th>\n",
       "      <td>2008-10-16 15:13:00</td>\n",
       "      <td>2899.41</td>\n",
       "      <td>2464.36</td>\n",
       "      <td>2179.7333</td>\n",
       "      <td>3085.3781</td>\n",
       "      <td>1.4843</td>\n",
       "      <td>100.0</td>\n",
       "      <td>82.2467</td>\n",
       "      <td>0.1248</td>\n",
       "      <td>1.3424</td>\n",
       "      <td>...</td>\n",
       "      <td>203.1720</td>\n",
       "      <td>0.4988</td>\n",
       "      <td>0.0143</td>\n",
       "      <td>0.0039</td>\n",
       "      <td>2.8669</td>\n",
       "      <td>0.0068</td>\n",
       "      <td>0.0138</td>\n",
       "      <td>0.0047</td>\n",
       "      <td>203.1720</td>\n",
       "      <td>-1</td>\n",
       "    </tr>\n",
       "    <tr>\n",
       "      <th>1563</th>\n",
       "      <td>2008-10-16 20:49:00</td>\n",
       "      <td>3052.31</td>\n",
       "      <td>2522.55</td>\n",
       "      <td>2198.5667</td>\n",
       "      <td>1124.6595</td>\n",
       "      <td>0.8763</td>\n",
       "      <td>100.0</td>\n",
       "      <td>98.4689</td>\n",
       "      <td>0.1205</td>\n",
       "      <td>1.4333</td>\n",
       "      <td>...</td>\n",
       "      <td>NaN</td>\n",
       "      <td>0.4975</td>\n",
       "      <td>0.0131</td>\n",
       "      <td>0.0036</td>\n",
       "      <td>2.6238</td>\n",
       "      <td>0.0068</td>\n",
       "      <td>0.0138</td>\n",
       "      <td>0.0047</td>\n",
       "      <td>203.1720</td>\n",
       "      <td>-1</td>\n",
       "    </tr>\n",
       "    <tr>\n",
       "      <th>1564</th>\n",
       "      <td>2008-10-17 05:26:00</td>\n",
       "      <td>2978.81</td>\n",
       "      <td>2379.78</td>\n",
       "      <td>2206.3000</td>\n",
       "      <td>1110.4967</td>\n",
       "      <td>0.8236</td>\n",
       "      <td>100.0</td>\n",
       "      <td>99.4122</td>\n",
       "      <td>0.1208</td>\n",
       "      <td>NaN</td>\n",
       "      <td>...</td>\n",
       "      <td>43.5231</td>\n",
       "      <td>0.4987</td>\n",
       "      <td>0.0153</td>\n",
       "      <td>0.0041</td>\n",
       "      <td>3.0590</td>\n",
       "      <td>0.0197</td>\n",
       "      <td>0.0086</td>\n",
       "      <td>0.0025</td>\n",
       "      <td>43.5231</td>\n",
       "      <td>-1</td>\n",
       "    </tr>\n",
       "    <tr>\n",
       "      <th>1565</th>\n",
       "      <td>2008-10-17 06:01:00</td>\n",
       "      <td>2894.92</td>\n",
       "      <td>2532.01</td>\n",
       "      <td>2177.0333</td>\n",
       "      <td>1183.7287</td>\n",
       "      <td>1.5726</td>\n",
       "      <td>100.0</td>\n",
       "      <td>98.7978</td>\n",
       "      <td>0.1213</td>\n",
       "      <td>1.4622</td>\n",
       "      <td>...</td>\n",
       "      <td>93.4941</td>\n",
       "      <td>0.5004</td>\n",
       "      <td>0.0178</td>\n",
       "      <td>0.0038</td>\n",
       "      <td>3.5662</td>\n",
       "      <td>0.0262</td>\n",
       "      <td>0.0245</td>\n",
       "      <td>0.0075</td>\n",
       "      <td>93.4941</td>\n",
       "      <td>-1</td>\n",
       "    </tr>\n",
       "    <tr>\n",
       "      <th>1566</th>\n",
       "      <td>2008-10-17 06:07:00</td>\n",
       "      <td>2944.92</td>\n",
       "      <td>2450.76</td>\n",
       "      <td>2195.4444</td>\n",
       "      <td>2914.1792</td>\n",
       "      <td>1.5978</td>\n",
       "      <td>100.0</td>\n",
       "      <td>85.1011</td>\n",
       "      <td>0.1235</td>\n",
       "      <td>NaN</td>\n",
       "      <td>...</td>\n",
       "      <td>137.7844</td>\n",
       "      <td>0.4987</td>\n",
       "      <td>0.0181</td>\n",
       "      <td>0.0040</td>\n",
       "      <td>3.6275</td>\n",
       "      <td>0.0117</td>\n",
       "      <td>0.0162</td>\n",
       "      <td>0.0045</td>\n",
       "      <td>137.7844</td>\n",
       "      <td>-1</td>\n",
       "    </tr>\n",
       "  </tbody>\n",
       "</table>\n",
       "<p>1567 rows × 592 columns</p>\n",
       "</div>"
      ],
      "text/plain": [
       "                     Time        0        1          2          3       4  \\\n",
       "0     2008-07-19 11:55:00  3030.93  2564.00  2187.7333  1411.1265  1.3602   \n",
       "1     2008-07-19 12:32:00  3095.78  2465.14  2230.4222  1463.6606  0.8294   \n",
       "2     2008-07-19 13:17:00  2932.61  2559.94  2186.4111  1698.0172  1.5102   \n",
       "3     2008-07-19 14:43:00  2988.72  2479.90  2199.0333   909.7926  1.3204   \n",
       "4     2008-07-19 15:22:00  3032.24  2502.87  2233.3667  1326.5200  1.5334   \n",
       "...                   ...      ...      ...        ...        ...     ...   \n",
       "1562  2008-10-16 15:13:00  2899.41  2464.36  2179.7333  3085.3781  1.4843   \n",
       "1563  2008-10-16 20:49:00  3052.31  2522.55  2198.5667  1124.6595  0.8763   \n",
       "1564  2008-10-17 05:26:00  2978.81  2379.78  2206.3000  1110.4967  0.8236   \n",
       "1565  2008-10-17 06:01:00  2894.92  2532.01  2177.0333  1183.7287  1.5726   \n",
       "1566  2008-10-17 06:07:00  2944.92  2450.76  2195.4444  2914.1792  1.5978   \n",
       "\n",
       "          5         6       7       8  ...       581     582     583     584  \\\n",
       "0     100.0   97.6133  0.1242  1.5005  ...       NaN  0.5005  0.0118  0.0035   \n",
       "1     100.0  102.3433  0.1247  1.4966  ...  208.2045  0.5019  0.0223  0.0055   \n",
       "2     100.0   95.4878  0.1241  1.4436  ...   82.8602  0.4958  0.0157  0.0039   \n",
       "3     100.0  104.2367  0.1217  1.4882  ...   73.8432  0.4990  0.0103  0.0025   \n",
       "4     100.0  100.3967  0.1235  1.5031  ...       NaN  0.4800  0.4766  0.1045   \n",
       "...     ...       ...     ...     ...  ...       ...     ...     ...     ...   \n",
       "1562  100.0   82.2467  0.1248  1.3424  ...  203.1720  0.4988  0.0143  0.0039   \n",
       "1563  100.0   98.4689  0.1205  1.4333  ...       NaN  0.4975  0.0131  0.0036   \n",
       "1564  100.0   99.4122  0.1208     NaN  ...   43.5231  0.4987  0.0153  0.0041   \n",
       "1565  100.0   98.7978  0.1213  1.4622  ...   93.4941  0.5004  0.0178  0.0038   \n",
       "1566  100.0   85.1011  0.1235     NaN  ...  137.7844  0.4987  0.0181  0.0040   \n",
       "\n",
       "          585     586     587     588       589  Pass/Fail  \n",
       "0      2.3630     NaN     NaN     NaN       NaN         -1  \n",
       "1      4.4447  0.0096  0.0201  0.0060  208.2045         -1  \n",
       "2      3.1745  0.0584  0.0484  0.0148   82.8602          1  \n",
       "3      2.0544  0.0202  0.0149  0.0044   73.8432         -1  \n",
       "4     99.3032  0.0202  0.0149  0.0044   73.8432         -1  \n",
       "...       ...     ...     ...     ...       ...        ...  \n",
       "1562   2.8669  0.0068  0.0138  0.0047  203.1720         -1  \n",
       "1563   2.6238  0.0068  0.0138  0.0047  203.1720         -1  \n",
       "1564   3.0590  0.0197  0.0086  0.0025   43.5231         -1  \n",
       "1565   3.5662  0.0262  0.0245  0.0075   93.4941         -1  \n",
       "1566   3.6275  0.0117  0.0162  0.0045  137.7844         -1  \n",
       "\n",
       "[1567 rows x 592 columns]"
      ]
     },
     "execution_count": 381,
     "metadata": {},
     "output_type": "execute_result"
    }
   ],
   "source": [
    "SECOM"
   ]
  },
  {
   "cell_type": "code",
   "execution_count": 382,
   "metadata": {},
   "outputs": [],
   "source": [
    "secom_feats = [str(i) for i in range(199, 211, 1)]\n",
    "secom_feats.append('Pass/Fail')"
   ]
  },
  {
   "cell_type": "code",
   "execution_count": 383,
   "metadata": {},
   "outputs": [],
   "source": [
    "SECOM = SECOM[secom_feats]"
   ]
  },
  {
   "cell_type": "code",
   "execution_count": 384,
   "metadata": {},
   "outputs": [
    {
     "name": "stderr",
     "output_type": "stream",
     "text": [
      "/var/folders/3x/956gglvx6tbcvyg7m0dghx8r0000gq/T/ipykernel_14149/2461088957.py:1: SettingWithCopyWarning: \n",
      "A value is trying to be set on a copy of a slice from a DataFrame\n",
      "\n",
      "See the caveats in the documentation: https://pandas.pydata.org/pandas-docs/stable/user_guide/indexing.html#returning-a-view-versus-a-copy\n",
      "  SECOM.dropna(inplace=True)\n"
     ]
    }
   ],
   "source": [
    "SECOM.dropna(inplace=True)"
   ]
  },
  {
   "cell_type": "code",
   "execution_count": 385,
   "metadata": {},
   "outputs": [],
   "source": [
    "SECOM_train_shape = int(len(SECOM) * 0.8)\n",
    "SECOM_test_shape = len(SECOM) - SECOM_train_shape"
   ]
  },
  {
   "cell_type": "code",
   "execution_count": 386,
   "metadata": {},
   "outputs": [],
   "source": [
    "SECOM_train = SECOM.iloc[:SECOM_train_shape, 1:]\n",
    "SECOM_test = SECOM.iloc[SECOM_train_shape:, 1:]"
   ]
  },
  {
   "cell_type": "code",
   "execution_count": 387,
   "metadata": {},
   "outputs": [],
   "source": [
    "del SECOM"
   ]
  },
  {
   "cell_type": "markdown",
   "metadata": {},
   "source": [
    "## Dataset Truncate"
   ]
  },
  {
   "cell_type": "code",
   "execution_count": 388,
   "metadata": {},
   "outputs": [],
   "source": [
    "from sklearn.preprocessing import StandardScaler, MinMaxScaler\n",
    "scaler = MinMaxScaler()"
   ]
  },
  {
   "cell_type": "code",
   "execution_count": 389,
   "metadata": {},
   "outputs": [],
   "source": [
    "IEEE_train = IEEE_train[:10000]\n",
    "IEEE_test = IEEE_test[:10000]"
   ]
  },
  {
   "cell_type": "code",
   "execution_count": 390,
   "metadata": {},
   "outputs": [],
   "source": [
    "NSLKDD_train = NSLKDD_train[:10000]\n",
    "NSLKDD_test = NSLKDD_test[:10000]"
   ]
  },
  {
   "cell_type": "code",
   "execution_count": 391,
   "metadata": {},
   "outputs": [],
   "source": [
    "SECOM_train = SECOM_train[:10000]\n",
    "SECOM_test = SECOM_test[:10000]"
   ]
  },
  {
   "cell_type": "code",
   "execution_count": 392,
   "metadata": {},
   "outputs": [],
   "source": [
    "IEEE_train = scaler.fit_transform(IEEE_train)\n",
    "IEEE_test = scaler.fit_transform(IEEE_test)"
   ]
  },
  {
   "cell_type": "code",
   "execution_count": 393,
   "metadata": {},
   "outputs": [],
   "source": [
    "NSLKDD_train = scaler.fit_transform(NSLKDD_train)\n",
    "NSLKDD_test = scaler.fit_transform(NSLKDD_test)"
   ]
  },
  {
   "cell_type": "code",
   "execution_count": 394,
   "metadata": {},
   "outputs": [],
   "source": [
    "SECOM_train = scaler.fit_transform(SECOM_train)\n",
    "SECOM_test = scaler.fit_transform(SECOM_test)"
   ]
  },
  {
   "cell_type": "markdown",
   "metadata": {},
   "source": [
    "## Testing data(s):"
   ]
  },
  {
   "cell_type": "code",
   "execution_count": 395,
   "metadata": {},
   "outputs": [
    {
     "data": {
      "text/plain": [
       "((10000, 51), (10000, 51))"
      ]
     },
     "execution_count": 395,
     "metadata": {},
     "output_type": "execute_result"
    }
   ],
   "source": [
    "IEEE_train.shape, IEEE_test.shape"
   ]
  },
  {
   "cell_type": "code",
   "execution_count": 396,
   "metadata": {},
   "outputs": [
    {
     "ename": "AttributeError",
     "evalue": "'numpy.ndarray' object has no attribute 'corr'",
     "output_type": "error",
     "traceback": [
      "\u001b[31m---------------------------------------------------------------------------\u001b[39m",
      "\u001b[31mAttributeError\u001b[39m                            Traceback (most recent call last)",
      "\u001b[36mCell\u001b[39m\u001b[36m \u001b[39m\u001b[32mIn[396]\u001b[39m\u001b[32m, line 1\u001b[39m\n\u001b[32m----> \u001b[39m\u001b[32m1\u001b[39m corr_matrix = \u001b[43mIEEE_train\u001b[49m\u001b[43m.\u001b[49m\u001b[43mcorr\u001b[49m()\n\u001b[32m      3\u001b[39m plt.figure(figsize=(\u001b[32m10\u001b[39m, \u001b[32m8\u001b[39m))\n\u001b[32m      4\u001b[39m sns.heatmap(corr_matrix, cmap=\u001b[33m'\u001b[39m\u001b[33mcoolwarm\u001b[39m\u001b[33m'\u001b[39m, fmt=\u001b[33m\"\u001b[39m\u001b[33m.2f\u001b[39m\u001b[33m\"\u001b[39m, square=\u001b[38;5;28;01mTrue\u001b[39;00m)\n",
      "\u001b[31mAttributeError\u001b[39m: 'numpy.ndarray' object has no attribute 'corr'"
     ]
    }
   ],
   "source": [
    "corr_matrix = IEEE_train.corr()\n",
    "\n",
    "plt.figure(figsize=(10, 8))\n",
    "sns.heatmap(corr_matrix, cmap='coolwarm', fmt=\".2f\", square=True)\n",
    "plt.title(\"Correlation Matrix\")\n",
    "plt.show()"
   ]
  },
  {
   "cell_type": "code",
   "execution_count": null,
   "metadata": {},
   "outputs": [
    {
     "data": {
      "text/plain": [
       "((10000, 31), (10000, 31))"
      ]
     },
     "execution_count": 307,
     "metadata": {},
     "output_type": "execute_result"
    }
   ],
   "source": [
    "NSLKDD_train.shape, NSLKDD_test.shape"
   ]
  },
  {
   "cell_type": "code",
   "execution_count": 397,
   "metadata": {},
   "outputs": [
    {
     "data": {
      "text/plain": [
       "((1228, 12), (308, 12))"
      ]
     },
     "execution_count": 397,
     "metadata": {},
     "output_type": "execute_result"
    }
   ],
   "source": [
    "SECOM_train.shape, SECOM_test.shape"
   ]
  },
  {
   "cell_type": "markdown",
   "metadata": {},
   "source": [
    "# Device"
   ]
  },
  {
   "cell_type": "code",
   "execution_count": 398,
   "metadata": {},
   "outputs": [
    {
     "data": {
      "text/plain": [
       "'mps'"
      ]
     },
     "execution_count": 398,
     "metadata": {},
     "output_type": "execute_result"
    }
   ],
   "source": [
    "device = \"cuda\" if torch.cuda.is_available else \"cpu\"\n",
    "device = \"mps\" if torch.backends.mps.is_available and torch.backends.mps.is_built else device\n",
    "\n",
    "device"
   ]
  },
  {
   "cell_type": "code",
   "execution_count": 399,
   "metadata": {},
   "outputs": [],
   "source": [
    "n_qubits = 8\n",
    "q_depth = 3"
   ]
  },
  {
   "cell_type": "code",
   "execution_count": 400,
   "metadata": {},
   "outputs": [
    {
     "data": {
      "text/plain": [
       "<lightning.qubit device (wires=8) at 0x149483a90>"
      ]
     },
     "execution_count": 400,
     "metadata": {},
     "output_type": "execute_result"
    }
   ],
   "source": [
    "dev = qml.device('lightning.qubit', wires=n_qubits)\n",
    "dev"
   ]
  },
  {
   "cell_type": "markdown",
   "metadata": {},
   "source": [
    "# Quantum Model"
   ]
  },
  {
   "cell_type": "code",
   "execution_count": 401,
   "metadata": {},
   "outputs": [],
   "source": [
    "def H_layer(nqubits):\n",
    "    \"\"\"Layer of single-qubit Hadamard gates.\"\"\"\n",
    "    for idx in range(nqubits):\n",
    "        qml.Hadamard(wires=idx)\n",
    "\n",
    "def RY_layer(w):\n",
    "    \"\"\"Layer of parametrized qubit rotations around the y axis.\"\"\"\n",
    "    for idx, element in enumerate(w):\n",
    "        qml.RY(element, wires=idx)\n",
    "\n",
    "def entangling_layer(nqubits):\n",
    "    \"\"\"Layer of CNOTs followed by another shifted layer of CNOT.\"\"\"\n",
    "    for i in range(0, nqubits - 1, 2):  # Even indices\n",
    "        qml.CNOT(wires=[i, i + 1])\n",
    "    for i in range(1, nqubits - 1, 2):  # Odd indices\n",
    "        qml.CNOT(wires=[i, i + 1])\n",
    "\n",
    "@qml.qnode(dev, interface=\"torch\")\n",
    "def quantum_net(q_input_features, q_weights_flat):\n",
    "    \"\"\"\n",
    "    Variational quantum circuit.\n",
    "    \"\"\"\n",
    "    # Reshape weights\n",
    "    q_weights = q_weights_flat.reshape(q_depth, n_qubits)\n",
    "\n",
    "    # Start from |+> state\n",
    "    H_layer(n_qubits)\n",
    "\n",
    "    # Embed input features\n",
    "    RY_layer(q_input_features)\n",
    "\n",
    "    # Apply trainable layers\n",
    "    for k in range(q_depth):\n",
    "        entangling_layer(n_qubits)\n",
    "        RY_layer(q_weights[k])\n",
    "\n",
    "    # Return expectation values\n",
    "    return [qml.expval(qml.PauliZ(idx)) for idx in range(n_qubits)]\n",
    "    # return qml.expval(qml.PauliZ(0))\n",
    "\n",
    "class DressedQuantumNet(nn.Module):\n",
    "    \"\"\"\n",
    "    Torch module for the dressed quantum network.\n",
    "    \"\"\"\n",
    "    def __init__(self, input_shape=51, dataset_idx=1):\n",
    "        super().__init__()\n",
    "        self.n_qubits = n_qubits\n",
    "        self.q_depth = q_depth\n",
    "        self.q_delta = 0.01\n",
    "        # self.pre_net = nn.Linear(input_shape, self.n_qubits)\n",
    "        self.q_params = nn.Parameter(self.q_delta * torch.randn(self.q_depth * self.n_qubits))\n",
    "        # self.post_net = nn.Linear(self.n_qubits, 7)\n",
    "\n",
    "        if (dataset_idx == 1) or (dataset_idx == 2):\n",
    "            self.pre_net = nn.Sequential(\n",
    "                            nn.Linear(input_shape, 64),\n",
    "                            nn.ReLU(),\n",
    "                            nn.Linear(64, 64),\n",
    "                            nn.ReLU(),\n",
    "                            nn.Dropout(0.4),\n",
    "                            nn.Linear(64, 32),\n",
    "                            nn.ReLU(),\n",
    "                            nn.Dropout(0.4),\n",
    "                            nn.Linear(32, 16),\n",
    "                            nn.ReLU(),\n",
    "                            nn.Dropout(0.4),\n",
    "                            nn.Linear(16, 8)\n",
    "                        )\n",
    "        elif dataset_idx == 3:\n",
    "            self.pre_net = nn.Sequential(\n",
    "                            nn.Linear(input_shape, 16),\n",
    "                            nn.ReLU(),\n",
    "                            nn.Linear(16, 16),\n",
    "                            nn.ReLU(),\n",
    "                            nn.Dropout(0.4),\n",
    "                            nn.Linear(16, 8)\n",
    "                        )\n",
    "        \n",
    "        self.post_net = nn.Sequential(\n",
    "                            nn.Linear(n_qubits, 8),\n",
    "                            nn.ReLU(),\n",
    "                            nn.Dropout(0.4),\n",
    "                            nn.Linear(8, 4),\n",
    "                            nn.ReLU(),\n",
    "                            nn.Dropout(0.4),\n",
    "                            nn.Linear(4, 1)\n",
    "                        )\n",
    "\n",
    "    def forward(self, input_features):\n",
    "        \"\"\"\n",
    "        Forward pass through the dressed quantum network.\n",
    "        \"\"\"\n",
    "        # Preprocessing input to reduce dimensions\n",
    "        pre_out = self.pre_net(input_features)\n",
    "        q_in = torch.tanh(pre_out) * np.pi / 2.0\n",
    "\n",
    "        # Apply quantum circuit\n",
    "        q_out = []\n",
    "        for elem in q_in:\n",
    "            elem = elem.clone().detach().to(self.q_params.device)  # Ensure it's on the correct device and detached\n",
    "            q_out_elem = quantum_net(elem, self.q_params)  # Output as list\n",
    "\n",
    "            # Convert list to tensor if it's not already\n",
    "            q_out_elem_tensor = torch.tensor(q_out_elem, dtype=torch.float32, device=self.q_params.device)\n",
    "\n",
    "            # Apply linear transformation to match 2 output classes (if needed)\n",
    "            # q_out_elem = torch.nn.Linear(q_out_elem_tensor.size(-1), 2)(q_out_elem_tensor)  # Adjust size to 2\n",
    "            q_out_elem = self.post_net(q_out_elem_tensor)\n",
    "\n",
    "            q_out.append(q_out_elem)\n",
    "\n",
    "        # Stack and process\n",
    "        q_out = torch.stack(q_out, dim=0)  # Ensure this is stacked correctly\n",
    "        # print(\"q_out after loop:\", q_out.shape)\n",
    "        \n",
    "        # q_out = q_out.to(self.q_params.device, dtype=torch.float32, requires_grad=True)\n",
    "\n",
    "        return torch.sigmoid(q_out)"
   ]
  },
  {
   "cell_type": "markdown",
   "metadata": {},
   "source": [
    "# Models"
   ]
  },
  {
   "cell_type": "code",
   "execution_count": 402,
   "metadata": {},
   "outputs": [],
   "source": [
    "model_IEEE = DressedQuantumNet(input_shape=50, dataset_idx=1)\n",
    "model_NSLKDD = DressedQuantumNet(input_shape=30, dataset_idx=2)\n",
    "model_SECOM = DressedQuantumNet(input_shape=10, dataset_idx=3)"
   ]
  },
  {
   "cell_type": "markdown",
   "metadata": {},
   "source": [
    "# DataLoader"
   ]
  },
  {
   "cell_type": "code",
   "execution_count": 403,
   "metadata": {},
   "outputs": [
    {
     "data": {
      "text/plain": [
       "(1228, 12)"
      ]
     },
     "execution_count": 403,
     "metadata": {},
     "output_type": "execute_result"
    }
   ],
   "source": [
    "SECOM_train.shape"
   ]
  },
  {
   "cell_type": "code",
   "execution_count": 404,
   "metadata": {},
   "outputs": [],
   "source": [
    "SECOM_train = SECOM_train[:, 1:]\n",
    "SECOM_test = SECOM_test[:, 1:]"
   ]
  },
  {
   "cell_type": "code",
   "execution_count": 405,
   "metadata": {},
   "outputs": [
    {
     "ename": "AttributeError",
     "evalue": "'numpy.ndarray' object has no attribute 'iloc'",
     "output_type": "error",
     "traceback": [
      "\u001b[31m---------------------------------------------------------------------------\u001b[39m",
      "\u001b[31mAttributeError\u001b[39m                            Traceback (most recent call last)",
      "\u001b[36mCell\u001b[39m\u001b[36m \u001b[39m\u001b[32mIn[405]\u001b[39m\u001b[32m, line 1\u001b[39m\n\u001b[32m----> \u001b[39m\u001b[32m1\u001b[39m X_IEEE_train = \u001b[43mIEEE_train\u001b[49m\u001b[43m.\u001b[49m\u001b[43miloc\u001b[49m[:, :-\u001b[32m1\u001b[39m]\n\u001b[32m      2\u001b[39m y_IEEE_train = IEEE_train.iloc[:, -\u001b[32m1\u001b[39m]\n\u001b[32m      4\u001b[39m X_IEEE_test = IEEE_test.iloc[:, :-\u001b[32m1\u001b[39m]\n",
      "\u001b[31mAttributeError\u001b[39m: 'numpy.ndarray' object has no attribute 'iloc'"
     ]
    }
   ],
   "source": [
    "X_IEEE_train = IEEE_train.iloc[:, :-1]\n",
    "y_IEEE_train = IEEE_train.iloc[:, -1]\n",
    "\n",
    "X_IEEE_test = IEEE_test.iloc[:, :-1]\n",
    "y_IEEE_test = IEEE_test.iloc[:, -1]"
   ]
  },
  {
   "cell_type": "code",
   "execution_count": 406,
   "metadata": {},
   "outputs": [
    {
     "ename": "AttributeError",
     "evalue": "'numpy.ndarray' object has no attribute 'iloc'",
     "output_type": "error",
     "traceback": [
      "\u001b[31m---------------------------------------------------------------------------\u001b[39m",
      "\u001b[31mAttributeError\u001b[39m                            Traceback (most recent call last)",
      "\u001b[36mCell\u001b[39m\u001b[36m \u001b[39m\u001b[32mIn[406]\u001b[39m\u001b[32m, line 1\u001b[39m\n\u001b[32m----> \u001b[39m\u001b[32m1\u001b[39m X_NSLKDD_train = \u001b[43mNSLKDD_train\u001b[49m\u001b[43m.\u001b[49m\u001b[43miloc\u001b[49m[:, :-\u001b[32m1\u001b[39m]\n\u001b[32m      2\u001b[39m y_NSLKDD_train = NSLKDD_train.iloc[:, -\u001b[32m1\u001b[39m]\n\u001b[32m      4\u001b[39m X_NSLKDD_test = NSLKDD_test.iloc[:, :-\u001b[32m1\u001b[39m]\n",
      "\u001b[31mAttributeError\u001b[39m: 'numpy.ndarray' object has no attribute 'iloc'"
     ]
    }
   ],
   "source": [
    "X_NSLKDD_train = NSLKDD_train.iloc[:, :-1]\n",
    "y_NSLKDD_train = NSLKDD_train.iloc[:, -1]\n",
    "\n",
    "X_NSLKDD_test = NSLKDD_test.iloc[:, :-1]\n",
    "y_NSLKDD_test = NSLKDD_test.iloc[:, -1]"
   ]
  },
  {
   "cell_type": "code",
   "execution_count": 407,
   "metadata": {},
   "outputs": [],
   "source": [
    "X_SECOM_train = SECOM_train[:, :-1]\n",
    "y_SECOM_train = SECOM_train[:, -1]\n",
    "\n",
    "X_SECOM_test = SECOM_test[:, :-1]\n",
    "y_SECOM_test = SECOM_test[:, -1]"
   ]
  },
  {
   "cell_type": "code",
   "execution_count": 408,
   "metadata": {},
   "outputs": [],
   "source": [
    "# y_SECOM_train = y_SECOM_train.replace(-1, 0)\n",
    "# y_SECOM_test = y_SECOM_test.replace(-1, 0)\n",
    "\n",
    "y_SECOM_train = np.where(y_SECOM_train == -1, 0, y_SECOM_train)\n",
    "y_SECOM_test = np.where(y_SECOM_test == -1, 0, y_SECOM_test)"
   ]
  },
  {
   "cell_type": "code",
   "execution_count": 409,
   "metadata": {},
   "outputs": [],
   "source": [
    "class Dataset(Dataset):\n",
    "    def __init__(self, feature_cols, label_col):\n",
    "        self.features = feature_cols.astype(np.float32)\n",
    "        self.labels = label_col.astype(np.float32)\n",
    "\n",
    "    def __len__(self):\n",
    "        return len(self.features)\n",
    "\n",
    "    def __getitem__(self, idx):\n",
    "        x = torch.tensor(self.features[idx])\n",
    "        y = torch.tensor(self.labels[idx])\n",
    "        return x, y"
   ]
  },
  {
   "cell_type": "code",
   "execution_count": 410,
   "metadata": {},
   "outputs": [],
   "source": [
    "IEEE_dataset_train = Dataset(X_IEEE_train, y_IEEE_train)\n",
    "NSLKDD_dataset_train = Dataset(X_NSLKDD_train, y_NSLKDD_train)\n",
    "SECOM_dataset_train = Dataset(X_SECOM_train, y_SECOM_train)"
   ]
  },
  {
   "cell_type": "code",
   "execution_count": 411,
   "metadata": {},
   "outputs": [],
   "source": [
    "IEEE_dataset_test = Dataset(X_IEEE_test, y_IEEE_test)\n",
    "NSLKDD_dataset_test = Dataset(X_NSLKDD_test, y_NSLKDD_test)\n",
    "SECOM_dataset_test = Dataset(X_SECOM_test, y_SECOM_test)"
   ]
  },
  {
   "cell_type": "code",
   "execution_count": 412,
   "metadata": {},
   "outputs": [],
   "source": [
    "train_loader_IEEE = DataLoader(IEEE_dataset_train, batch_size=32, shuffle=True)\n",
    "test_loader_IEEE = DataLoader(IEEE_dataset_test, batch_size=32, shuffle=False)"
   ]
  },
  {
   "cell_type": "code",
   "execution_count": 413,
   "metadata": {},
   "outputs": [],
   "source": [
    "train_loader_NSLKDD = DataLoader(NSLKDD_dataset_train, batch_size=32, shuffle=True)\n",
    "test_loader_NSLKDD = DataLoader(NSLKDD_dataset_test, batch_size=32, shuffle=False)"
   ]
  },
  {
   "cell_type": "code",
   "execution_count": 414,
   "metadata": {},
   "outputs": [],
   "source": [
    "train_loader_SECOM = DataLoader(SECOM_dataset_train, batch_size=32, shuffle=True)\n",
    "test_loader_SECOM = DataLoader(SECOM_dataset_test, batch_size=32, shuffle=False)"
   ]
  },
  {
   "cell_type": "markdown",
   "metadata": {},
   "source": [
    "# Training"
   ]
  },
  {
   "cell_type": "code",
   "execution_count": 415,
   "metadata": {},
   "outputs": [],
   "source": [
    "optimizer = optim.Adam(model_SECOM.parameters(), lr=0.001)\n",
    "criterion = nn.BCELoss()\n",
    "loss_fn = torch.nn.BCELoss()"
   ]
  },
  {
   "cell_type": "code",
   "execution_count": 193,
   "metadata": {},
   "outputs": [],
   "source": [
    "import time"
   ]
  },
  {
   "cell_type": "code",
   "execution_count": 182,
   "metadata": {},
   "outputs": [
    {
     "name": "stdout",
     "output_type": "stream",
     "text": [
      "Epoch 1, Loss: 0.1629, Accuracy: 0.9617\n",
      "Epoch 2, Loss: 0.1628, Accuracy: 0.9617\n",
      "Epoch 3, Loss: 0.1626, Accuracy: 0.9617\n",
      "Epoch 4, Loss: 0.1627, Accuracy: 0.9617\n",
      "Epoch 5, Loss: 0.1626, Accuracy: 0.9617\n",
      "Epoch 6, Loss: 0.1623, Accuracy: 0.9617\n",
      "Epoch 7, Loss: 0.1626, Accuracy: 0.9617\n",
      "Epoch 8, Loss: 0.1625, Accuracy: 0.9617\n",
      "Epoch 9, Loss: 0.1626, Accuracy: 0.9617\n",
      "Epoch 10, Loss: 0.1626, Accuracy: 0.9617\n",
      "Epoch 11, Loss: 0.1626, Accuracy: 0.9617\n",
      "Epoch 12, Loss: 0.1624, Accuracy: 0.9617\n",
      "Epoch 13, Loss: 0.1625, Accuracy: 0.9617\n",
      "Epoch 14, Loss: 0.1624, Accuracy: 0.9617\n",
      "Epoch 15, Loss: 0.1622, Accuracy: 0.9617\n",
      "Epoch 16, Loss: 0.1622, Accuracy: 0.9617\n",
      "Epoch 17, Loss: 0.1622, Accuracy: 0.9617\n",
      "Epoch 18, Loss: 0.1625, Accuracy: 0.9617\n",
      "Epoch 19, Loss: 0.1625, Accuracy: 0.9617\n",
      "Epoch 20, Loss: 0.1618, Accuracy: 0.9617\n"
     ]
    },
    {
     "data": {
      "image/png": "[encoded data removed]",
      "text/plain": [
       "<Figure size 1200x500 with 2 Axes>"
      ]
     },
     "metadata": {},
     "output_type": "display_data"
    }
   ],
   "source": [
    "epoch_losses = []\n",
    "epoch_accuracies = []\n",
    "\n",
    "for epoch in range(20):\n",
    "    model_IEEE.train()\n",
    "    total_correct = 0\n",
    "    total_samples = 0\n",
    "    epoch_loss = 0.0\n",
    "\n",
    "    for X_batch, y_batch in train_loader_IEEE:\n",
    "        X_batch = X_batch.to(model_IEEE.q_params.device)\n",
    "        y_batch = y_batch.to(model_IEEE.q_params.device).unsqueeze(1)\n",
    "\n",
    "        optimizer.zero_grad()\n",
    "        output = model_IEEE(X_batch)\n",
    "        loss = loss_fn(output, y_batch)\n",
    "        loss.backward()\n",
    "        optimizer.step()\n",
    "\n",
    "        # Accumulate loss\n",
    "        epoch_loss += loss.item() * X_batch.size(0)\n",
    "\n",
    "        # Convert predictions to binary (assuming binary classification)\n",
    "        preds = (output > 0.5).float()\n",
    "        total_correct += (preds == y_batch).sum().item()\n",
    "        total_samples += y_batch.size(0)\n",
    "\n",
    "    avg_loss = epoch_loss / total_samples\n",
    "    accuracy = total_correct / total_samples\n",
    "\n",
    "    epoch_losses.append(avg_loss)\n",
    "    epoch_accuracies.append(accuracy)\n",
    "\n",
    "    print(f\"Epoch {epoch+1}, Loss: {avg_loss:.4f}, Accuracy: {accuracy:.4f}\")\n",
    "\n",
    "# Plotting\n",
    "plt.figure(figsize=(12, 5))\n",
    "\n",
    "plt.subplot(1, 2, 1)\n",
    "plt.plot(epoch_losses, label=\"Loss\")\n",
    "plt.title(\"Loss over Epochs\")\n",
    "plt.xlabel(\"Epoch\")\n",
    "plt.ylabel(\"Loss\")\n",
    "plt.grid(True)\n",
    "plt.legend()\n",
    "\n",
    "plt.subplot(1, 2, 2)\n",
    "plt.plot(epoch_accuracies, label=\"Accuracy\", color='green')\n",
    "plt.title(\"Accuracy over Epochs\")\n",
    "plt.xlabel(\"Epoch\")\n",
    "plt.ylabel(\"Accuracy\")\n",
    "plt.grid(True)\n",
    "plt.legend()\n",
    "\n",
    "plt.tight_layout()\n",
    "plt.show()"
   ]
  },
  {
   "cell_type": "code",
   "execution_count": 183,
   "metadata": {},
   "outputs": [
    {
     "name": "stdout",
     "output_type": "stream",
     "text": [
      "Test Loss: 0.1521, Test Accuracy: 0.9649\n"
     ]
    }
   ],
   "source": [
    "model_IEEE.eval()  # Set model to evaluation mode\n",
    "test_loss = 0.0\n",
    "correct = 0\n",
    "total = 0\n",
    "\n",
    "with torch.no_grad():\n",
    "    for X_batch, y_batch in test_loader_IEEE:\n",
    "        X_batch = X_batch.to(model_IEEE.q_params.device)\n",
    "        y_batch = y_batch.to(model_IEEE.q_params.device).unsqueeze(1)\n",
    "\n",
    "        output = model_IEEE(X_batch)\n",
    "        loss = loss_fn(output, y_batch)\n",
    "\n",
    "        test_loss += loss.item() * X_batch.size(0)\n",
    "\n",
    "        # Binary predictions\n",
    "        preds = (output > 0.5).float()\n",
    "        correct += (preds == y_batch).sum().item()\n",
    "        total += y_batch.size(0)\n",
    "\n",
    "avg_test_loss = test_loss / total\n",
    "test_accuracy = correct / total\n",
    "\n",
    "print(f\"Test Loss: {avg_test_loss:.4f}, Test Accuracy: {test_accuracy:.4f}\")"
   ]
  },
  {
   "cell_type": "code",
   "execution_count": 184,
   "metadata": {},
   "outputs": [
    {
     "name": "stdout",
     "output_type": "stream",
     "text": [
      "5292\n",
      "4708\n"
     ]
    }
   ],
   "source": [
    "count_0 = 0\n",
    "for i in y_NSLKDD_train:\n",
    "    if i == 0:\n",
    "        count_0 += 1\n",
    "\n",
    "print(count_0)\n",
    "print(len(y_NSLKDD_train) - count_0)"
   ]
  },
  {
   "cell_type": "code",
   "execution_count": 194,
   "metadata": {},
   "outputs": [
    {
     "name": "stdout",
     "output_type": "stream",
     "text": [
      "Epoch 1, Loss: 0.6237, Accuracy: 0.6469\n",
      "Epoch 2, Loss: 0.6227, Accuracy: 0.6510\n",
      "Epoch 3, Loss: 0.6201, Accuracy: 0.6546\n",
      "Epoch 4, Loss: 0.6202, Accuracy: 0.6534\n",
      "Epoch 5, Loss: 0.6170, Accuracy: 0.6612\n",
      "Epoch 6, Loss: 0.6234, Accuracy: 0.6547\n",
      "Epoch 7, Loss: 0.6187, Accuracy: 0.6601\n",
      "Epoch 8, Loss: 0.6225, Accuracy: 0.6505\n",
      "Epoch 9, Loss: 0.6247, Accuracy: 0.6507\n",
      "Epoch 10, Loss: 0.6133, Accuracy: 0.6622\n",
      "Epoch 11, Loss: 0.6171, Accuracy: 0.6566\n",
      "Epoch 12, Loss: 0.6160, Accuracy: 0.6565\n",
      "Epoch 13, Loss: 0.6152, Accuracy: 0.6592\n",
      "Epoch 14, Loss: 0.6182, Accuracy: 0.6534\n",
      "Epoch 15, Loss: 0.6139, Accuracy: 0.6606\n",
      "Epoch 16, Loss: 0.6162, Accuracy: 0.6611\n",
      "Epoch 17, Loss: 0.6138, Accuracy: 0.6581\n",
      "Epoch 18, Loss: 0.6198, Accuracy: 0.6596\n",
      "Epoch 19, Loss: 0.6162, Accuracy: 0.6570\n",
      "Epoch 20, Loss: 0.6198, Accuracy: 0.6529\n",
      "Epoch 21, Loss: 0.6165, Accuracy: 0.6545\n",
      "Epoch 22, Loss: 0.6180, Accuracy: 0.6554\n",
      "Epoch 23, Loss: 0.6148, Accuracy: 0.6571\n",
      "Epoch 24, Loss: 0.6158, Accuracy: 0.6614\n",
      "Epoch 25, Loss: 0.6157, Accuracy: 0.6635\n",
      "Epoch 26, Loss: 0.6171, Accuracy: 0.6632\n",
      "Epoch 27, Loss: 0.6144, Accuracy: 0.6620\n",
      "Epoch 28, Loss: 0.6159, Accuracy: 0.6572\n",
      "Epoch 29, Loss: 0.6121, Accuracy: 0.6602\n",
      "Epoch 30, Loss: 0.6154, Accuracy: 0.6557\n"
     ]
    },
    {
     "data": {
      "image/png": "[encoded data removed]",
      "text/plain": [
       "<Figure size 1200x500 with 2 Axes>"
      ]
     },
     "metadata": {},
     "output_type": "display_data"
    }
   ],
   "source": [
    "epoch_losses = []\n",
    "epoch_accuracies = []\n",
    "\n",
    "for epoch in range(30):\n",
    "    model_NSLKDD.train()\n",
    "    total_correct = 0\n",
    "    total_samples = 0\n",
    "    epoch_loss = 0.0\n",
    "\n",
    "    for X_batch, y_batch in train_loader_NSLKDD:\n",
    "        X_batch = X_batch.to(model_NSLKDD.q_params.device)\n",
    "        y_batch = y_batch.to(model_NSLKDD.q_params.device).unsqueeze(1)\n",
    "\n",
    "        optimizer.zero_grad()\n",
    "        output = model_NSLKDD(X_batch)\n",
    "        loss = loss_fn(output, y_batch)\n",
    "        loss.backward()\n",
    "        optimizer.step()\n",
    "\n",
    "        # Accumulate loss\n",
    "        epoch_loss += loss.item() * X_batch.size(0)\n",
    "\n",
    "        # Convert predictions to binary (assuming binary classification)\n",
    "        preds = (output > 0.5).float()\n",
    "        total_correct += (preds == y_batch).sum().item()\n",
    "        total_samples += y_batch.size(0)\n",
    "\n",
    "    avg_loss = epoch_loss / total_samples\n",
    "    accuracy = total_correct / total_samples\n",
    "\n",
    "    epoch_losses.append(avg_loss)\n",
    "    epoch_accuracies.append(accuracy)\n",
    "\n",
    "    print(f\"Epoch {epoch+1}, Loss: {avg_loss:.4f}, Accuracy: {accuracy:.4f}\")\n",
    "\n",
    "# Plotting\n",
    "plt.figure(figsize=(12, 5))\n",
    "\n",
    "plt.subplot(1, 2, 1)\n",
    "plt.plot(epoch_losses, label=\"Loss\")\n",
    "plt.title(\"Loss over Epochs\")\n",
    "plt.xlabel(\"Epoch\")\n",
    "plt.ylabel(\"Loss\")\n",
    "plt.grid(True)\n",
    "plt.legend()\n",
    "\n",
    "plt.subplot(1, 2, 2)\n",
    "plt.plot(epoch_accuracies, label=\"Accuracy\", color='green')\n",
    "plt.title(\"Accuracy over Epochs\")\n",
    "plt.xlabel(\"Epoch\")\n",
    "plt.ylabel(\"Accuracy\")\n",
    "plt.grid(True)\n",
    "plt.legend()\n",
    "\n",
    "plt.tight_layout()\n",
    "plt.show()"
   ]
  },
  {
   "cell_type": "code",
   "execution_count": 195,
   "metadata": {},
   "outputs": [
    {
     "name": "stdout",
     "output_type": "stream",
     "text": [
      "Test Loss: 0.6144, Test Accuracy: 0.7427\n"
     ]
    }
   ],
   "source": [
    "model_NSLKDD.eval()  # Set model to evaluation mode\n",
    "test_loss = 0.0\n",
    "correct = 0\n",
    "total = 0\n",
    "\n",
    "with torch.no_grad():\n",
    "    for X_batch, y_batch in test_loader_NSLKDD:\n",
    "        X_batch = X_batch.to(model_NSLKDD.q_params.device)\n",
    "        y_batch = y_batch.to(model_NSLKDD.q_params.device).unsqueeze(1)\n",
    "\n",
    "        output = model_NSLKDD(X_batch)\n",
    "        loss = loss_fn(output, y_batch)\n",
    "\n",
    "        test_loss += loss.item() * X_batch.size(0)\n",
    "\n",
    "        # Binary predictions\n",
    "        preds = (output > 0.5).float()\n",
    "        correct += (preds == y_batch).sum().item()\n",
    "        total += y_batch.size(0)\n",
    "\n",
    "avg_test_loss = test_loss / total\n",
    "test_accuracy = correct / total\n",
    "\n",
    "print(f\"Test Loss: {avg_test_loss:.4f}, Test Accuracy: {test_accuracy:.4f}\")"
   ]
  },
  {
   "cell_type": "code",
   "execution_count": 275,
   "metadata": {},
   "outputs": [
    {
     "data": {
      "text/plain": [
       "0       1\n",
       "1       1\n",
       "2       1\n",
       "3       1\n",
       "4       1\n",
       "       ..\n",
       "1248    1\n",
       "1249    1\n",
       "1250    1\n",
       "1251    1\n",
       "1252    1\n",
       "Name: Pass/Fail, Length: 1253, dtype: int64"
      ]
     },
     "execution_count": 275,
     "metadata": {},
     "output_type": "execute_result"
    }
   ],
   "source": [
    "y_SECOM_train"
   ]
  },
  {
   "cell_type": "code",
   "execution_count": 416,
   "metadata": {},
   "outputs": [
    {
     "name": "stdout",
     "output_type": "stream",
     "text": [
      "Epoch 1, Loss: 0.8171, Accuracy: 0.0684\n",
      "Epoch 2, Loss: 0.7795, Accuracy: 0.0684\n",
      "Epoch 3, Loss: 0.7447, Accuracy: 0.2280\n",
      "Epoch 4, Loss: 0.6961, Accuracy: 0.5033\n",
      "Epoch 5, Loss: 0.6423, Accuracy: 0.5798\n",
      "Epoch 6, Loss: 0.5886, Accuracy: 0.7549\n",
      "Epoch 7, Loss: 0.5256, Accuracy: 0.7842\n",
      "Epoch 8, Loss: 0.4800, Accuracy: 0.8086\n",
      "Epoch 9, Loss: 0.4340, Accuracy: 0.8078\n",
      "Epoch 10, Loss: 0.4076, Accuracy: 0.8062\n",
      "Epoch 11, Loss: 0.4045, Accuracy: 0.8559\n",
      "Epoch 12, Loss: 0.3820, Accuracy: 0.9316\n",
      "Epoch 13, Loss: 0.3811, Accuracy: 0.9316\n",
      "Epoch 14, Loss: 0.3482, Accuracy: 0.9316\n",
      "Epoch 15, Loss: 0.3614, Accuracy: 0.9316\n",
      "Epoch 16, Loss: 0.3547, Accuracy: 0.9316\n",
      "Epoch 17, Loss: 0.3786, Accuracy: 0.9316\n",
      "Epoch 18, Loss: 0.3663, Accuracy: 0.9316\n",
      "Epoch 19, Loss: 0.3461, Accuracy: 0.9316\n",
      "Epoch 20, Loss: 0.3381, Accuracy: 0.9316\n",
      "Epoch 21, Loss: 0.3403, Accuracy: 0.9316\n",
      "Epoch 22, Loss: 0.3364, Accuracy: 0.9316\n",
      "Epoch 23, Loss: 0.3351, Accuracy: 0.9316\n",
      "Epoch 24, Loss: 0.3436, Accuracy: 0.9316\n",
      "Epoch 25, Loss: 0.3541, Accuracy: 0.9316\n",
      "Epoch 26, Loss: 0.3258, Accuracy: 0.9316\n",
      "Epoch 27, Loss: 0.3426, Accuracy: 0.9316\n",
      "Epoch 28, Loss: 0.3597, Accuracy: 0.9316\n",
      "Epoch 29, Loss: 0.3305, Accuracy: 0.9316\n",
      "Epoch 30, Loss: 0.3287, Accuracy: 0.9316\n"
     ]
    },
    {
     "data": {
      "image/png": "[encoded data removed]",
      "text/plain": [
       "<Figure size 1200x500 with 2 Axes>"
      ]
     },
     "metadata": {},
     "output_type": "display_data"
    }
   ],
   "source": [
    "epoch_losses = []\n",
    "epoch_accuracies = []\n",
    "\n",
    "for epoch in range(30):\n",
    "    model_SECOM.train()\n",
    "    total_correct = 0\n",
    "    total_samples = 0\n",
    "    epoch_loss = 0.0\n",
    "\n",
    "    for X_batch, y_batch in train_loader_SECOM:\n",
    "        # print(X_batch.min(), X_batch.max())\n",
    "        # print(np.min(y_batch), np.max(y_batch))\n",
    "\n",
    "        X_batch = X_batch.to(model_SECOM.q_params.device)\n",
    "        y_batch = y_batch.to(model_SECOM.q_params.device).unsqueeze(1)\n",
    "\n",
    "        optimizer.zero_grad()\n",
    "        output = model_SECOM(X_batch)\n",
    "        loss = loss_fn(output, y_batch)\n",
    "        loss.backward()\n",
    "        optimizer.step()\n",
    "\n",
    "        # Accumulate loss\n",
    "        epoch_loss += loss.item() * X_batch.size(0)\n",
    "\n",
    "        # Convert predictions to binary (assuming binary classification)\n",
    "        preds = (output > 0.5).float()\n",
    "        total_correct += (preds == y_batch).sum().item()\n",
    "        total_samples += y_batch.size(0)\n",
    "\n",
    "    avg_loss = epoch_loss / total_samples\n",
    "    accuracy = total_correct / total_samples\n",
    "\n",
    "    epoch_losses.append(avg_loss)\n",
    "    epoch_accuracies.append(accuracy)\n",
    "\n",
    "    print(f\"Epoch {epoch+1}, Loss: {avg_loss:.4f}, Accuracy: {accuracy:.4f}\")\n",
    "\n",
    "# Plotting\n",
    "plt.figure(figsize=(12, 5))\n",
    "\n",
    "plt.subplot(1, 2, 1)\n",
    "plt.plot(epoch_losses, label=\"Loss\")\n",
    "plt.title(\"Loss over Epochs\")\n",
    "plt.xlabel(\"Epoch\")\n",
    "plt.ylabel(\"Loss\")\n",
    "plt.grid(True)\n",
    "plt.legend()\n",
    "\n",
    "plt.subplot(1, 2, 2)\n",
    "plt.plot(epoch_accuracies, label=\"Accuracy\", color='green')\n",
    "plt.title(\"Accuracy over Epochs\")\n",
    "plt.xlabel(\"Epoch\")\n",
    "plt.ylabel(\"Accuracy\")\n",
    "plt.grid(True)\n",
    "plt.legend()\n",
    "\n",
    "plt.tight_layout()\n",
    "plt.show()"
   ]
  },
  {
   "cell_type": "code",
   "execution_count": 417,
   "metadata": {},
   "outputs": [
    {
     "name": "stdout",
     "output_type": "stream",
     "text": [
      "Test Loss: 0.2489, Test Accuracy: 0.9351\n"
     ]
    }
   ],
   "source": [
    "model_SECOM.eval()  # Set model to evaluation mode\n",
    "test_loss = 0.0\n",
    "correct = 0\n",
    "total = 0\n",
    "\n",
    "with torch.no_grad():\n",
    "    for X_batch, y_batch in test_loader_SECOM:\n",
    "        X_batch = X_batch.to(model_SECOM.q_params.device)\n",
    "        y_batch = y_batch.to(model_SECOM.q_params.device).unsqueeze(1)\n",
    "\n",
    "        output = model_SECOM(X_batch)\n",
    "        loss = loss_fn(output, y_batch)\n",
    "\n",
    "        test_loss += loss.item() * X_batch.size(0)\n",
    "\n",
    "        # Binary predictions\n",
    "        preds = (output > 0.5).float()\n",
    "        correct += (preds == y_batch).sum().item()\n",
    "        total += y_batch.size(0)\n",
    "\n",
    "avg_test_loss = test_loss / total\n",
    "test_accuracy = correct / total\n",
    "\n",
    "print(f\"Test Loss: {avg_test_loss:.4f}, Test Accuracy: {test_accuracy:.4f}\")"
   ]
  },
  {
   "cell_type": "code",
   "execution_count": null,
   "metadata": {},
   "outputs": [],
   "source": []
  }
 ],
 "metadata": {
  "kernelspec": {
   "display_name": ".venv",
   "language": "python",
   "name": "python3"
  },
  "language_info": {
   "codemirror_mode": {
    "name": "ipython",
    "version": 3
   },
   "file_extension": ".py",
   "mimetype": "text/x-python",
   "name": "python",
   "nbconvert_exporter": "python",
   "pygments_lexer": "ipython3",
   "version": "3.11.3"
  }
 },
 "nbformat": 4,
 "nbformat_minor": 2
}
